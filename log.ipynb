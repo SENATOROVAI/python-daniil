{
 "cells": [
  {
   "cell_type": "markdown",
   "metadata": {},
   "source": [
    "Дата: 30.10.2024\n",
    "1) познакомился экосистемой\n",
    "2) узнал, что такое линтер\n",
    "3) установил фреймворк anaconda\n",
    "4) настроил окружение\n"
   ]
  },
  {
   "cell_type": "code",
   "execution_count": null,
   "metadata": {},
   "outputs": [],
   "source": [
 "дата урока и что делали"
   ]
  }
 ],
 "metadata": {
  "language_info": {
   "name": "python"
  }
 },
 "nbformat": 4,
 "nbformat_minor": 2
}
